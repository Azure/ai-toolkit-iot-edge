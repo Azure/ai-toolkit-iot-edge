{
 "cells": [
  {
   "cell_type": "markdown",
   "metadata": {},
   "source": [
    "Copyright (c) Microsoft Corporation. All rights reserved.\n",
    "\n",
    "Licensed under the MIT License."
   ]
  },
  {
   "cell_type": "markdown",
   "metadata": {},
   "source": [
    "##  Azure ML and IoT Edge Workshop\n",
    "\n",
    "For more information go to https://aka.ms/aml-tutorial/ai-iot-power-couple\n"
   ]
  },
  {
   "cell_type": "markdown",
   "metadata": {},
   "source": [
    "## 1: Specify parameters\n",
    "Fill in the parameters below.  If you already have IoT Hub or Azure ML workspace, then enter their information here. Otherwise, the parameter names will be used in provisioning new services."
   ]
  },
  {
   "cell_type": "code",
   "execution_count": 1,
   "metadata": {},
   "outputs": [],
   "source": [
    "# Enter the resource group in Azure where you want to provision the resources \n",
    "resource_group_name = \"tedway-iotedge-workshop\"\n",
    "\n",
    "# Enter Azure region where your services will be provisioned\n",
    "azure_region=\"eastus2\"\n",
    "\n",
    "# Pick an Azure IoT Hub name\n",
    "iot_hub_name=\"tedway-iothub\"\n",
    "\n",
    "# Pick a name for your IoT Edge device\n",
    "# This is NOT the name of your VM, but it's just an entry in your IoT Hub, so you can pick any name\n",
    "iot_device_id=\"iot-edge-device\"\n",
    "\n",
    "# Pick a subscription ID to provision your services\n",
    "subscription_id = \"75f78a03-482f-4fd8-8c71-5ddc08f92726\"\n",
    "\n",
    "# Pick a name for your Azure ML workspace\n",
    "aml_workspace_name = \"tedway-aml-iotedge\""
   ]
  },
  {
   "cell_type": "code",
   "execution_count": 2,
   "metadata": {},
   "outputs": [],
   "source": [
    "# DO NOT CHANGE THIS VALUE for this tutorial\n",
    "# This is the name of the AML module you deploy to the device\n",
    "module_name = \"machinelearningmodule\""
   ]
  },
  {
   "cell_type": "code",
   "execution_count": null,
   "metadata": {},
   "outputs": [],
   "source": [
    "!az login"
   ]
  },
  {
   "cell_type": "code",
   "execution_count": 4,
   "metadata": {},
   "outputs": [],
   "source": [
    "!az account set --subscription $subscription_id"
   ]
  },
  {
   "cell_type": "code",
   "execution_count": 5,
   "metadata": {},
   "outputs": [
    {
     "name": "stdout",
     "output_type": "stream",
     "text": [
      "SDK version: 1.0.10\n"
     ]
    }
   ],
   "source": [
    "# Check core SDK version number\n",
    "import azureml.core\n",
    "from azureml.core import Workspace\n",
    "\n",
    "print(\"SDK version:\", azureml.core.VERSION)"
   ]
  },
  {
   "cell_type": "markdown",
   "metadata": {},
   "source": [
    "## 2: Provision Azure ML Workspace and IoT Hub \n",
    "If you already have provisioned these resources, then skip this section and go Section 3."
   ]
  },
  {
   "cell_type": "markdown",
   "metadata": {},
   "source": [
    "### 2.1: Provision Azure ML workspace\n",
    "After you've done this once you no longer have to run this cell anymore"
   ]
  },
  {
   "cell_type": "code",
   "execution_count": null,
   "metadata": {},
   "outputs": [],
   "source": [
    "ws = Workspace.create(subscription_id = subscription_id,\n",
    "                resource_group = resource_group_name,\n",
    "                name = aml_workspace_name,\n",
    "                location = azure_region)\n",
    "\n",
    "ws.write_config()"
   ]
  },
  {
   "cell_type": "markdown",
   "metadata": {},
   "source": [
    "### 2.2: Provision IoT Hub\n",
    "If you get an error because there's already one free hub in your subscription, change the SKU to S1. If you get an error that the IoT Hub name isn't available, it means that someone else already has a hub with that name. \n"
   ]
  },
  {
   "cell_type": "code",
   "execution_count": null,
   "metadata": {},
   "outputs": [],
   "source": [
    "!az iot hub create --resource-group $resource_group_name --name $iot_hub_name --sku F1"
   ]
  },
  {
   "cell_type": "code",
   "execution_count": null,
   "metadata": {},
   "outputs": [],
   "source": [
    "# Register an IoT Edge device (create a new entry in the Iot Hub)\n",
    "!az iot hub device-identity create --hub-name $iot_hub_name --device-id $iot_device_id --edge-enabled"
   ]
  },
  {
   "cell_type": "markdown",
   "metadata": {},
   "source": [
    "## 3: Load resources\n",
    "Load the Azure ML workspace and get the IoT Edge device connection string in your IoT Hub."
   ]
  },
  {
   "cell_type": "markdown",
   "metadata": {},
   "source": [
    "### 3.1 Load the Azure ML workspace."
   ]
  },
  {
   "cell_type": "code",
   "execution_count": 7,
   "metadata": {
    "tags": [
     "create workspace"
    ]
   },
   "outputs": [
    {
     "name": "stderr",
     "output_type": "stream",
     "text": [
      "Falling back to use azure cli credentials. This fall back to use azure cli credentials will be removed in the next release. \n",
      "Make sure your code doesn't require 'az login' to have happened before using azureml-sdk, except the case when you are specifying AzureCliAuthentication in azureml-sdk.\n"
     ]
    },
    {
     "name": "stdout",
     "output_type": "stream",
     "text": [
      "Found the config file in: c:\\Users\\tedway\\git\\ai-toolkit-iot-edge\\IoT Edge anomaly detection tutorial\\aml_config\\config.json\n",
      "tedway-aml-iotedge\n",
      "tedway-iotedge-workshop\n",
      "eastus2\n",
      "75f78a03-482f-4fd8-8c71-5ddc08f92726\n"
     ]
    }
   ],
   "source": [
    "# Initialize a workspace object from persisted configuration\n",
    "from azureml.core import Workspace\n",
    "\n",
    "ws = Workspace.from_config()\n",
    "print(ws.name, ws.resource_group, ws.location, ws.subscription_id, sep = '\\n')"
   ]
  },
  {
   "cell_type": "markdown",
   "metadata": {},
   "source": [
    "### 3.2: Get the Azure IoT Edge device connection string"
   ]
  },
  {
   "cell_type": "code",
   "execution_count": 8,
   "metadata": {
    "scrolled": true
   },
   "outputs": [
    {
     "name": "stdout",
     "output_type": "stream",
     "text": [
      "{\n",
      "  \"cs\": \"HostName=tedway-iothub.azure-devices.net;DeviceId=iot-edge-device;SharedAccessKey=dJpK8912eAOw+VFF4llgmfSq/o9+AbiJJmNkNHCPWQU=\"\n",
      "}\n"
     ]
    }
   ],
   "source": [
    "# Get the connection string that you will need to enter in the IoT Edge device\n",
    "!az iot hub device-identity show-connection-string --device-id $iot_device_id --hub-name $iot_hub_name"
   ]
  },
  {
   "cell_type": "markdown",
   "metadata": {},
   "source": [
    "## 3: Anomaly Detection Model"
   ]
  },
  {
   "cell_type": "markdown",
   "metadata": {},
   "source": [
    "## 3.1 Train the model"
   ]
  },
  {
   "cell_type": "code",
   "execution_count": null,
   "metadata": {},
   "outputs": [],
   "source": [
    "!pip install pandas\n",
    "!pip install sklearn"
   ]
  },
  {
   "cell_type": "code",
   "execution_count": 10,
   "metadata": {},
   "outputs": [],
   "source": [
    "# Load the data set\n",
    "import pandas\n",
    "import numpy\n",
    "import pickle\n",
    "\n",
    "\n",
    "from sklearn import tree\n",
    "from sklearn.model_selection import train_test_split"
   ]
  },
  {
   "cell_type": "code",
   "execution_count": null,
   "metadata": {
    "scrolled": true
   },
   "outputs": [],
   "source": [
    "temp_data = pandas.read_csv('temperature_data.csv')\n",
    "temp_data"
   ]
  },
  {
   "cell_type": "code",
   "execution_count": 12,
   "metadata": {},
   "outputs": [],
   "source": [
    "# Load features and labels\n",
    "X, Y = temp_data[['machine_temperature', 'machine_pressure', 'ambient_temperature', 'ambient_humidity']].values, temp_data['anomaly'].values"
   ]
  },
  {
   "cell_type": "code",
   "execution_count": 13,
   "metadata": {},
   "outputs": [
    {
     "name": "stdout",
     "output_type": "stream",
     "text": [
      "DecisionTreeClassifier(class_weight=None, criterion='gini', max_depth=None,\n",
      "            max_features=None, max_leaf_nodes=None,\n",
      "            min_impurity_decrease=0.0, min_impurity_split=None,\n",
      "            min_samples_leaf=1, min_samples_split=2,\n",
      "            min_weight_fraction_leaf=0.0, presort=False, random_state=None,\n",
      "            splitter='best')\n"
     ]
    }
   ],
   "source": [
    "# Split data 65%-35% into training set and test set\n",
    "X_train, X_test, Y_train, Y_test = train_test_split(X, Y, test_size=0.35, random_state=0)\n",
    "\n",
    "# Change regularization rate and you will likely get a different accuracy.\n",
    "reg = 0.01\n",
    "\n",
    "# Train a decision tree on the training set\n",
    "#clf1 = LogisticRegression(C=1/reg).fit(X_train, Y_train)\n",
    "clf1 = tree.DecisionTreeClassifier()\n",
    "clf1 = clf1.fit(X_train, Y_train)\n",
    "print (clf1)"
   ]
  },
  {
   "cell_type": "code",
   "execution_count": 14,
   "metadata": {
    "scrolled": true
   },
   "outputs": [
    {
     "name": "stdout",
     "output_type": "stream",
     "text": [
      "Accuracy is 0.9907834101382489\n"
     ]
    }
   ],
   "source": [
    "# Evaluate the test set\n",
    "accuracy = clf1.score(X_test, Y_test)\n",
    "\n",
    "print (\"Accuracy is {}\".format(accuracy))"
   ]
  },
  {
   "cell_type": "code",
   "execution_count": 15,
   "metadata": {},
   "outputs": [
    {
     "name": "stdout",
     "output_type": "stream",
     "text": [
      "Exported the model to model.pkl\n"
     ]
    }
   ],
   "source": [
    "# Serialize the model and write to disk\n",
    "f = open('model.pkl', 'wb')\n",
    "pickle.dump(clf1, f)\n",
    "f.close()\n",
    "print (\"Exported the model to model.pkl\")"
   ]
  },
  {
   "cell_type": "code",
   "execution_count": 16,
   "metadata": {},
   "outputs": [
    {
     "name": "stdout",
     "output_type": "stream",
     "text": [
      "Import the model from model.pkl\n",
      "New sample: [[33.66995566, 2.44341267, 21.39450979, 26]]\n",
      "Predicted class is [1]\n"
     ]
    }
   ],
   "source": [
    "# Test the model by importing it and providing a sample data point\n",
    "print(\"Import the model from model.pkl\")\n",
    "f2 = open('model.pkl', 'rb')\n",
    "clf2 = pickle.load(f2)\n",
    "\n",
    "# Normal (not an anomaly)\n",
    "#X_new = [[24.90294136, 1.44463889, 20.89537849, 24]]\n",
    "#X_new = [[33.40859853, 2.413637808, 20.89162813, 26]]\n",
    "#X_new = [[34.42109181, 2.528985143, 21.23903786, 25]]\n",
    "\n",
    "# Anomaly\n",
    "X_new = [[33.66995566, 2.44341267, 21.39450979, 26]]\n",
    "#X_new = [[105.5457931, 10.63179922, 20.62029994, 26]]\n",
    "\n",
    "print ('New sample: {}'.format(X_new))\n",
    "\n",
    "pred = clf2.predict(X_new)\n",
    "print('Predicted class is {}'.format(pred))"
   ]
  },
  {
   "cell_type": "markdown",
   "metadata": {},
   "source": [
    "### 3.2 Register Model"
   ]
  },
  {
   "cell_type": "markdown",
   "metadata": {},
   "source": [
    "You can add tags and descriptions to your models. Note you need to have a `model.pkl` file in the current directory. The below call registers that file as a model with the same name `model.pkl` in the workspace.\n",
    "\n",
    "Using tags, you can track useful information such as the name and version of the machine learning library used to train the model. Note that tags must be alphanumeric."
   ]
  },
  {
   "cell_type": "code",
   "execution_count": 17,
   "metadata": {
    "tags": [
     "register model from file"
    ]
   },
   "outputs": [
    {
     "name": "stdout",
     "output_type": "stream",
     "text": [
      "Registering model model.pkl\n"
     ]
    }
   ],
   "source": [
    "from azureml.core.model import Model\n",
    "\n",
    "model = Model.register(model_path = \"model.pkl\",\n",
    "                       model_name = \"model.pkl\",\n",
    "                       tags = {'area': \"anomaly\", 'type': \"classification\"},\n",
    "                       description = \"Sample anomaly detection model for IOT tutorial\",\n",
    "                       workspace = ws)"
   ]
  },
  {
   "cell_type": "code",
   "execution_count": 18,
   "metadata": {},
   "outputs": [
    {
     "name": "stdout",
     "output_type": "stream",
     "text": [
      "model.pkl\tSample anomaly detection model for IOT tutorial\t6\n"
     ]
    }
   ],
   "source": [
    "print(model.name, model.description, model.version, sep = '\\t')"
   ]
  },
  {
   "cell_type": "markdown",
   "metadata": {},
   "source": [
    "### 3.2 Create Docker Image"
   ]
  },
  {
   "cell_type": "markdown",
   "metadata": {},
   "source": [
    "Create the driver file.  Note that the `model.pkl` file in the get_model_path call is referring to a model named `model.pkl` registered under the workspace (what you registered above). It is NOT referenceing the local file."
   ]
  },
  {
   "cell_type": "code",
   "execution_count": 19,
   "metadata": {},
   "outputs": [
    {
     "name": "stdout",
     "output_type": "stream",
     "text": [
      "Overwriting iot_score.py\n"
     ]
    }
   ],
   "source": [
    "%%writefile iot_score.py\n",
    "# This script generates the scoring file\n",
    "# with the init and run functions needed to \n",
    "# operationalize the anomaly detection sample\n",
    "\n",
    "import pickle\n",
    "import json\n",
    "import pandas\n",
    "from sklearn.externals import joblib\n",
    "from sklearn.linear_model import Ridge\n",
    "from azureml.core.model import Model\n",
    "\n",
    "def init():\n",
    "    global model\n",
    "    # this is a different behavior than before when the code is run locally, even though the code is the same.\n",
    "    model_path = Model.get_model_path('model.pkl')\n",
    "    # deserialize the model file back into a sklearn model\n",
    "    model = joblib.load(model_path)\n",
    "\n",
    "# note you can pass in multiple rows for scoring\n",
    "def run(input_str):\n",
    "    try:\n",
    "        input_json = json.loads(input_str)\n",
    "        input_df = pandas.DataFrame([[input_json['machine']['temperature'],input_json['machine']['pressure'],input_json['ambient']['temperature'],input_json['ambient']['humidity']]])\n",
    "        pred = model.predict(input_df)\n",
    "        print(\"Prediction is \", pred[0])\n",
    "    except Exception as e:\n",
    "        result = str(e)\n",
    "        \n",
    "    if pred[0] == 1:\n",
    "        input_json['anomaly']=True\n",
    "    else:\n",
    "        input_json['anomaly']=False\n",
    "        \n",
    "    return [json.dumps(input_json)]\n"
   ]
  },
  {
   "cell_type": "code",
   "execution_count": 20,
   "metadata": {},
   "outputs": [],
   "source": [
    "# This specifies the dependencies to include in the environment\n",
    "from azureml.core.conda_dependencies import CondaDependencies \n",
    "\n",
    "myenv = CondaDependencies.create(conda_packages=['pandas', 'scikit-learn', 'numpy'])\n",
    "\n",
    "with open(\"myenv.yml\",\"w\") as f:\n",
    "    f.write(myenv.serialize_to_string())"
   ]
  },
  {
   "cell_type": "markdown",
   "metadata": {},
   "source": [
    "You can add tags and descriptions to images. Also, an image can contain multiple models."
   ]
  },
  {
   "cell_type": "code",
   "execution_count": 21,
   "metadata": {
    "tags": [
     "create image"
    ]
   },
   "outputs": [
    {
     "name": "stdout",
     "output_type": "stream",
     "text": [
      "Creating image\n"
     ]
    }
   ],
   "source": [
    "from azureml.core.image import Image, ContainerImage\n",
    "\n",
    "image_config = ContainerImage.image_configuration(runtime= \"python\",\n",
    "                                 execution_script=\"iot_score.py\",\n",
    "                                 conda_file=\"myenv.yml\",\n",
    "                                 tags = {'area': \"iot\", 'type': \"classification\"},\n",
    "                                 description = \"IOT Edge anomaly detection demo\")\n",
    "\n",
    "\n",
    "image = Image.create(name = \"tempanomalydetection\",\n",
    "                     # this is the model object \n",
    "                     models = [model],\n",
    "                     image_config = image_config, \n",
    "                     workspace = ws)"
   ]
  },
  {
   "cell_type": "markdown",
   "metadata": {},
   "source": [
    "Note that following command can take few minutes. "
   ]
  },
  {
   "cell_type": "code",
   "execution_count": 22,
   "metadata": {
    "tags": [
     "create image"
    ]
   },
   "outputs": [
    {
     "name": "stdout",
     "output_type": "stream",
     "text": [
      "Running...................................\n",
      "SucceededImage creation operation finished for image tempanomalydetection:6, operation \"Succeeded\"\n"
     ]
    }
   ],
   "source": [
    "image.wait_for_creation(show_output = True)"
   ]
  },
  {
   "cell_type": "markdown",
   "metadata": {},
   "source": [
    "List images by tag and find out the detailed build log for debugging."
   ]
  },
  {
   "cell_type": "code",
   "execution_count": null,
   "metadata": {
    "tags": [
     "create image"
    ]
   },
   "outputs": [],
   "source": [
    "for i in Image.list(workspace = ws,tags = [\"area\"]):\n",
    "    print('{}(v.{} [{}]) stored at {} with build log {}'.format(i.name, i.version, i.creation_state, i.image_location, i.image_build_log_uri))"
   ]
  },
  {
   "cell_type": "markdown",
   "metadata": {},
   "source": [
    "## 4: Test model on Azure Container Instance\n",
    "You can test the performance of your model by deploying the container to ACI.  Note that the service creation can take few minutes."
   ]
  },
  {
   "cell_type": "code",
   "execution_count": 23,
   "metadata": {
    "tags": [
     "deploy service",
     "aci"
    ]
   },
   "outputs": [],
   "source": [
    "from azureml.core.webservice import AciWebservice\n",
    "\n",
    "aciconfig = AciWebservice.deploy_configuration(cpu_cores = 1, \n",
    "                                               memory_gb = 1, \n",
    "                                               tags = {'area': \"iot\", 'type': \"classification\"}, \n",
    "                                               description = 'IOT Edge anomaly detection demo')"
   ]
  },
  {
   "cell_type": "code",
   "execution_count": 24,
   "metadata": {
    "tags": [
     "deploy service",
     "aci"
    ]
   },
   "outputs": [
    {
     "name": "stdout",
     "output_type": "stream",
     "text": [
      "tempsensor-iotedge-ml-6\n",
      "Creating service\n",
      "Running.....................\n",
      "SucceededACI service creation operation finished, operation \"Succeeded\"\n",
      "Healthy\n"
     ]
    }
   ],
   "source": [
    "from azureml.core.webservice import Webservice\n",
    "\n",
    "aci_service_name = 'tempsensor-iotedge-ml-6'\n",
    "print(aci_service_name)\n",
    "aci_service = Webservice.deploy_from_image(deployment_config = aciconfig,\n",
    "                                           image = image,\n",
    "                                           name = aci_service_name,\n",
    "                                           workspace = ws)\n",
    "aci_service.wait_for_deployment(True)\n",
    "print(aci_service.state)"
   ]
  },
  {
   "cell_type": "markdown",
   "metadata": {},
   "source": [
    "### 4.1: Test web service"
   ]
  },
  {
   "cell_type": "markdown",
   "metadata": {},
   "source": [
    "Call the web service with some dummy input data to get a prediction."
   ]
  },
  {
   "cell_type": "code",
   "execution_count": 25,
   "metadata": {
    "tags": [
     "deploy service",
     "aci"
    ]
   },
   "outputs": [
    {
     "name": "stdout",
     "output_type": "stream",
     "text": [
      "['{\"machine\": {\"temperature\": 31.16469009, \"pressure\": 2.158002669}, \"ambient\": {\"temperature\": 21.17794693, \"humidity\": 25}, \"timeCreated\": \"2017-10-27T18:14:02.4911177Z\", \"anomaly\": false}']\n"
     ]
    }
   ],
   "source": [
    "import json\n",
    "\n",
    "# Anomaly\n",
    "#test_sample = json.dumps({ \"machine\": { \"temperature\": 33.66995566, \"pressure\": 2.44341267 }, \\\n",
    "#                          \"ambient\": { \"temperature\": 21.39450979, \"humidity\": 26 },\\\n",
    "#                          \"timeCreated\": \"2017-10-27T18:14:02.4911177Z\" })\n",
    "\n",
    "# Normal\n",
    "test_sample = json.dumps({ \"machine\": { \"temperature\": 31.16469009, \"pressure\": 2.158002669 }, \\\n",
    "                          \"ambient\": { \"temperature\": 21.17794693, \"humidity\": 25 },\\\n",
    "                          \"timeCreated\": \"2017-10-27T18:14:02.4911177Z\" })\n",
    "\n",
    "test_sample = bytes(test_sample,encoding = 'utf8')\n",
    "\n",
    "prediction = aci_service.run(input_data = test_sample)\n",
    "print(prediction)"
   ]
  },
  {
   "cell_type": "markdown",
   "metadata": {},
   "source": [
    "### 4.2: Delete ACI to clean up"
   ]
  },
  {
   "cell_type": "code",
   "execution_count": null,
   "metadata": {
    "tags": [
     "deploy service",
     "aci"
    ]
   },
   "outputs": [],
   "source": [
    "# aci_service.delete()"
   ]
  },
  {
   "cell_type": "markdown",
   "metadata": {},
   "source": [
    "## 5: Deploy container to Azure IoT Edge device\n",
    "Create a deployment.json file that contains the modules you want to deploy to the device and the routes.  Then push this file to the IoT Hub, which will then send it to the IoT Edge device.  The IoT Edge agent will then pull the Docker images and run them."
   ]
  },
  {
   "cell_type": "code",
   "execution_count": 26,
   "metadata": {},
   "outputs": [
    {
     "name": "stdout",
     "output_type": "stream",
     "text": [
      "tedwayamacrszmxuxxl.azurecr.io/tempanomalydetection:6\n",
      "tedwayamacrszmxuxxl\n",
      "75f78a03-482f-4fd8-8c71-5ddc08f92726\n"
     ]
    }
   ],
   "source": [
    "# Getting your container details\n",
    "container_reg = ws.get_details()[\"containerRegistry\"]\n",
    "reg_name=container_reg.split(\"/\")[-1]\n",
    "container_url = \"\\\"\" + image.image_location + \"\\\",\"\n",
    "subscription_id = ws.subscription_id\n",
    "print('{}'.format(image.image_location))\n",
    "print('{}'.format(reg_name))\n",
    "print('{}'.format(subscription_id))\n",
    "from azure.mgmt.containerregistry import ContainerRegistryManagementClient\n",
    "from azure.mgmt import containerregistry\n",
    "client = ContainerRegistryManagementClient(ws._auth,subscription_id)\n",
    "result= client.registries.list_credentials(resource_group_name, reg_name, custom_headers=None, raw=False)\n",
    "username = result.username\n",
    "password = result.passwords[0].value"
   ]
  },
  {
   "cell_type": "code",
   "execution_count": 27,
   "metadata": {},
   "outputs": [],
   "source": [
    "file = open('iot-workshop-deployment-template.json')\n",
    "contents = file.read()\n",
    "contents = contents.replace('__MODULE_NAME', module_name)\n",
    "contents = contents.replace('__REGISTRY_NAME', reg_name)\n",
    "contents = contents.replace('__REGISTRY_USER_NAME', username)\n",
    "contents = contents.replace('__REGISTRY_PASSWORD', password)\n",
    "contents = contents.replace('__REGISTRY_IMAGE_LOCATION', image.image_location)\n",
    "with open('./deployment.json', 'wt', encoding='utf-8') as output_file:\n",
    "    output_file.write(contents)"
   ]
  },
  {
   "cell_type": "code",
   "execution_count": null,
   "metadata": {},
   "outputs": [],
   "source": [
    "# Push the deployment JSON to the IOT Hub\n",
    "!az iot edge set-modules --device-id $iot_device_id --hub-name $iot_hub_name --content deployment.json"
   ]
  },
  {
   "cell_type": "markdown",
   "metadata": {},
   "source": [
    "## Congratulations!\n",
    "You made it to the end of the tutorial!  You can monitor messages from your edge device to your IoT Hub with VS Code and the [Azure IoT Hub Toolkit](https://marketplace.visualstudio.com/items?itemName=vsciot-vscode.azure-iot-toolkit) extension."
   ]
  },
  {
   "cell_type": "code",
   "execution_count": null,
   "metadata": {},
   "outputs": [],
   "source": []
  }
 ],
 "metadata": {
  "authors": [
   {
    "name": "raymondl"
   }
  ],
  "kernelspec": {
   "display_name": "iotedge",
   "language": "python",
   "name": "iotedge"
  },
  "language_info": {
   "codemirror_mode": {
    "name": "ipython",
    "version": 3
   },
   "file_extension": ".py",
   "mimetype": "text/x-python",
   "name": "python",
   "nbconvert_exporter": "python",
   "pygments_lexer": "ipython3",
   "version": "3.6.8"
  }
 },
 "nbformat": 4,
 "nbformat_minor": 2
}
